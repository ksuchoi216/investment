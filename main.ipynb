{
 "cells": [
  {
   "cell_type": "code",
   "execution_count": 65,
   "metadata": {},
   "outputs": [
    {
     "name": "stdout",
     "output_type": "stream",
     "text": [
      "The autoreload extension is already loaded. To reload it, use:\n",
      "  %reload_ext autoreload\n"
     ]
    }
   ],
   "source": [
    "import matplotlib.pyplot as plt\n",
    "import seaborn as sns\n",
    "import pandas as pd\n",
    "import numpy as np\n",
    "import sys\n",
    "import os\n",
    "import torch\n",
    "import warnings\n",
    "import yaml\n",
    "from easydict import EasyDict as edict\n",
    "from pprint import pprint\n",
    "\n",
    "%load_ext autoreload\n",
    "%autoreload 2\n",
    "%matplotlib inline\n",
    "\n",
    "warnings.filterwarnings('ignore')\n",
    "plt.rcParams['figure.figsize'] = (16, 3)\n"
   ]
  },
  {
   "cell_type": "code",
   "execution_count": 130,
   "metadata": {},
   "outputs": [
    {
     "name": "stdout",
     "output_type": "stream",
     "text": [
      "modified_roic: 0.33\n",
      "earning_rate: 0.02\n",
      "gpa: 0.40\n"
     ]
    }
   ],
   "source": [
    "import yfinance as yf\n",
    "from pandas_datareader import data as pdr\n",
    "\n",
    "yf.pdr_override()\n",
    "\n",
    "from datetime import datetime as dt\n",
    "\n",
    "import yaml\n",
    "\n",
    "\n",
    "class StockAnalyer:\n",
    "    def __init__(self, cfg_name=\"cfg-quant\", cfg_dir=\"./configs\"):\n",
    "        with open(f\"{cfg_dir}/{cfg_name}.yaml\") as file:\n",
    "            cfg = yaml.load(file, Loader=yaml.FullLoader)\n",
    "            self.cfg = edict(cfg)\n",
    "        self.__load__()\n",
    "        self.__set__()\n",
    "\n",
    "    def __load__(self):\n",
    "        tickers = self.cfg.tickers\n",
    "\n",
    "        data_dic = {}\n",
    "        for key, ticker in tickers.items():\n",
    "            data_dic[key] = yf.Ticker(ticker)\n",
    "\n",
    "        self.data_dic = data_dic\n",
    "\n",
    "    def __set__(self):\n",
    "        company_name = \"asml\"\n",
    "        comp = self.data_dic[company_name]\n",
    "\n",
    "        info = comp.info\n",
    "        bal = comp.balance_sheet\n",
    "        inc = comp.income_stmt\n",
    "        fin = comp.financials\n",
    "        cash = comp.cashflow\n",
    "\n",
    "        # info\n",
    "        beta = info[\"beta\"]\n",
    "        market_cap = info[\"marketCap\"]\n",
    "\n",
    "        # financials\n",
    "        ebit = fin.loc[\"EBIT\"][0]\n",
    "        ebitda = fin.loc[\"EBITDA\"][0]\n",
    "\n",
    "        # balance\n",
    "        total_debt = bal.loc[\"Total Debt\"][0]\n",
    "        total_asset = bal.loc[\"Total Assets\"][0]\n",
    "\n",
    "        # cash\n",
    "        total_cash = cash.loc[\"Free Cash Flow\"][0]\n",
    "\n",
    "        # * Statistics\n",
    "\n",
    "        # good company\n",
    "        nopat = inc.loc[\"Net Income\"][0]\n",
    "        net_tangible_assets = bal.loc[\"Net Tangible Assets\"][0]\n",
    "        non_current_asset = bal.loc[\"Total Non Current Assets\"][0]\n",
    "        working_capital = bal.loc[\"Working Capital\"][0]\n",
    "        modified_roic = nopat / (non_current_asset + working_capital)\n",
    "        print(f\"modified_roic: {modified_roic:.2f}\")\n",
    "\n",
    "        # good earning\n",
    "        ev = market_cap - total_debt + total_cash\n",
    "        earning_rate = ebit / ev\n",
    "        print(f\"earning_rate: {earning_rate:.2f}\")\n",
    "\n",
    "        # good quality(gross profitability)\n",
    "        total_revenue = inc.loc[\"Total Revenue\"][0]\n",
    "        gross_profit = inc.loc[\"Gross Profit\"][0]\n",
    "\n",
    "        gpa = gross_profit / (total_asset - total_debt)\n",
    "        print(f\"gpa: {gpa:.2f}\")\n",
    "\n",
    "        # good price PER, PBR, 1/PBR = BM\n",
    "\n",
    "    def get_data_dic(self):\n",
    "        return self.data_dic\n",
    "\n",
    "    def forward(self):\n",
    "        pass\n",
    "\n",
    "\n",
    "stock_analyer = StockAnalyer()"
   ]
  },
  {
   "cell_type": "code",
   "execution_count": null,
   "metadata": {},
   "outputs": [],
   "source": []
  }
 ],
 "metadata": {
  "kernelspec": {
   "display_name": "main",
   "language": "python",
   "name": "python3"
  },
  "language_info": {
   "codemirror_mode": {
    "name": "ipython",
    "version": 3
   },
   "file_extension": ".py",
   "mimetype": "text/x-python",
   "name": "python",
   "nbconvert_exporter": "python",
   "pygments_lexer": "ipython3",
   "version": "3.10.0"
  }
 },
 "nbformat": 4,
 "nbformat_minor": 2
}
